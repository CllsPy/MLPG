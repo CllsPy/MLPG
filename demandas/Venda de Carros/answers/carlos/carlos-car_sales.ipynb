{
  "nbformat": 4,
  "nbformat_minor": 0,
  "metadata": {
    "colab": {
      "private_outputs": true,
      "provenance": [],
      "collapsed_sections": [
        "IpHTNnjr-kR5"
      ]
    },
    "kernelspec": {
      "name": "python3",
      "display_name": "Python 3"
    },
    "language_info": {
      "name": "python"
    }
  },
  "cells": [
    {
      "cell_type": "markdown",
      "source": [
        "## Cap 06\n",
        "\n",
        "- [Github](https://github.com/mrdbourke/zero-to-mastery-ml)"
      ],
      "metadata": {
        "id": "HkJ7E6vY8eV2"
      }
    },
    {
      "cell_type": "markdown",
      "source": [
        "### Packages"
      ],
      "metadata": {
        "id": "IpHTNnjr-kR5"
      }
    },
    {
      "cell_type": "code",
      "source": [
        "import pandas as pd\n",
        "import numpy as np"
      ],
      "metadata": {
        "id": "YskbwReg8iaz"
      },
      "execution_count": null,
      "outputs": []
    },
    {
      "cell_type": "markdown",
      "source": [
        "## Load"
      ],
      "metadata": {
        "id": "OQFAi06s_Zo2"
      }
    },
    {
      "cell_type": "code",
      "source": [
        "brands = pd.Series([\"Nike\", \"Coca-Cola\", \"McDonalds\"])\n",
        "product = pd.Series([\"Shoes\", \"Refrigerante\", \"Hamburguer\"])\n",
        "\n",
        "data_frame = pd.DataFrame({\"Brand\":brands, \"Product\":product})\n",
        "data_frame"
      ],
      "metadata": {
        "id": "Ye0lMKQa-681"
      },
      "execution_count": null,
      "outputs": []
    },
    {
      "cell_type": "code",
      "source": [
        "DATA_PATH = \"/content/drive/MyDrive/Colab Notebooks/Dados/ZTMMLCOURSE/assets/data/51 - car-sales.csv\"\n",
        "DATA_LOADER = pd.read_csv(DATA_PATH)"
      ],
      "metadata": {
        "id": "KkcoqXf0Av0c"
      },
      "execution_count": null,
      "outputs": []
    },
    {
      "cell_type": "code",
      "source": [
        "car_sales = DATA_LOADER.copy()\n",
        "car_sales"
      ],
      "metadata": {
        "id": "T4WFHoBRBt5U"
      },
      "execution_count": null,
      "outputs": []
    },
    {
      "cell_type": "code",
      "source": [
        "car_sales.dtypes"
      ],
      "metadata": {
        "id": "_-xHYs33Eg6P"
      },
      "execution_count": null,
      "outputs": []
    }
  ]
}